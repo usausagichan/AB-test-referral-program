{
  "nbformat": 4,
  "nbformat_minor": 0,
  "metadata": {
    "colab": {
      "provenance": [],
      "authorship_tag": "ABX9TyOskv2/C898PdHZVdF7kied",
      "include_colab_link": true
    },
    "kernelspec": {
      "name": "python3",
      "display_name": "Python 3"
    },
    "language_info": {
      "name": "python"
    }
  },
  "cells": [
    {
      "cell_type": "markdown",
      "metadata": {
        "id": "view-in-github",
        "colab_type": "text"
      },
      "source": [
        "<a href=\"https://colab.research.google.com/github/usausagichan/AB-test-referral-program/blob/main/user_referral_program.ipynb\" target=\"_parent\"><img src=\"https://colab.research.google.com/assets/colab-badge.svg\" alt=\"Open In Colab\"/></a>"
      ]
    },
    {
      "cell_type": "markdown",
      "source": [
        "# A/B Test Practice: User Referral Program\n",
        "As I'm currently studying about A/B test, I would like to put it into practice inorder to better understand it and know how to implement it. I chose an excercise about referral program from data masked.com(https://datamasked.com/)[1]\n",
        "\n",
        "The main task in this excercise is to perform A/B test in order to know if the referral program works(or help company to make more money) or not.\n",
        "\n",
        "I assume the success of referral program is defined as\n",
        "<br>(1) find valuable users(the referral users spent more than normal users)\n",
        "<br>(2) boost the sales, or more money was spent overall.\n",
        "\n",
        "To know whether the referral program works, we should know:\n",
        "<br>(1) Is users from referral program spent more than normal users?\n",
        "<br>(2) Does referral program makes the money grows up?\n",
        "\n",
        "Let's start up from the first question.\n",
        "\n"
      ],
      "metadata": {
        "id": "_3Wjy3El85kU"
      }
    },
    {
      "cell_type": "code",
      "execution_count": null,
      "metadata": {
        "id": "ek9rWpomJbVk"
      },
      "outputs": [],
      "source": [
        "from google.colab import drive\n",
        "import pandas as pd\n",
        "import seaborn as sns\n",
        "from scipy import stats\n",
        "import numpy as np"
      ]
    },
    {
      "cell_type": "markdown",
      "source": [
        "First import the data.(The excel file is from https://datamasked.com/. I afraid I can't provide you the dataset here because of copy right issue) "
      ],
      "metadata": {
        "id": "hiL3FGTA8aJs"
      }
    },
    {
      "cell_type": "code",
      "source": [
        "drive.mount('/content/gdrive') \n",
        "data=pd.read_csv(\"/content/gdrive/My Drive/excel/referral.csv\",parse_dates=['date'],dtype={'user_id':str})\n",
        "data"
      ],
      "metadata": {
        "colab": {
          "base_uri": "https://localhost:8080/",
          "height": 442
        },
        "id": "V5tnwieYJeSE",
        "outputId": "d6d19ceb-6615-4c3a-be2c-8108914c48f4"
      },
      "execution_count": null,
      "outputs": [
        {
          "output_type": "stream",
          "name": "stdout",
          "text": [
            "Mounted at /content/gdrive\n"
          ]
        },
        {
          "output_type": "execute_result",
          "data": {
            "text/plain": [
              "      user_id       date country  money_spent  is_referral      device_id\n",
              "0           2 2015-10-03      FR           65            0  EVDCJTZMVMJDG\n",
              "1           3 2015-10-03      CA           54            0  WUBZFTVKXGQQX\n",
              "2           6 2015-10-03      FR           35            0  CBAPCJRTFNUJG\n",
              "3           7 2015-10-03      UK           73            0  PRGXJZAJKMXRH\n",
              "4           7 2015-10-03      MX           35            0  PRGXJZAJKMXRH\n",
              "...       ...        ...     ...          ...          ...            ...\n",
              "97336   19934 2015-11-27      UK           35            1  AWMDRMOFTSZIH\n",
              "97337   19941 2015-11-27      DE           31            1  QAUSDXXLVUERE\n",
              "97338   19948 2015-11-27      UK           22            1  DCYLHYFLMRODO\n",
              "97339   19953 2015-11-27      UK           35            1  LROILUYWCNVWQ\n",
              "97340   19984 2015-11-27      FR           15            1  VFXAMMQDFORSS\n",
              "\n",
              "[97341 rows x 6 columns]"
            ],
            "text/html": [
              "\n",
              "  <div id=\"df-0a0ab36c-31c9-4302-9168-677a0ff02143\">\n",
              "    <div class=\"colab-df-container\">\n",
              "      <div>\n",
              "<style scoped>\n",
              "    .dataframe tbody tr th:only-of-type {\n",
              "        vertical-align: middle;\n",
              "    }\n",
              "\n",
              "    .dataframe tbody tr th {\n",
              "        vertical-align: top;\n",
              "    }\n",
              "\n",
              "    .dataframe thead th {\n",
              "        text-align: right;\n",
              "    }\n",
              "</style>\n",
              "<table border=\"1\" class=\"dataframe\">\n",
              "  <thead>\n",
              "    <tr style=\"text-align: right;\">\n",
              "      <th></th>\n",
              "      <th>user_id</th>\n",
              "      <th>date</th>\n",
              "      <th>country</th>\n",
              "      <th>money_spent</th>\n",
              "      <th>is_referral</th>\n",
              "      <th>device_id</th>\n",
              "    </tr>\n",
              "  </thead>\n",
              "  <tbody>\n",
              "    <tr>\n",
              "      <th>0</th>\n",
              "      <td>2</td>\n",
              "      <td>2015-10-03</td>\n",
              "      <td>FR</td>\n",
              "      <td>65</td>\n",
              "      <td>0</td>\n",
              "      <td>EVDCJTZMVMJDG</td>\n",
              "    </tr>\n",
              "    <tr>\n",
              "      <th>1</th>\n",
              "      <td>3</td>\n",
              "      <td>2015-10-03</td>\n",
              "      <td>CA</td>\n",
              "      <td>54</td>\n",
              "      <td>0</td>\n",
              "      <td>WUBZFTVKXGQQX</td>\n",
              "    </tr>\n",
              "    <tr>\n",
              "      <th>2</th>\n",
              "      <td>6</td>\n",
              "      <td>2015-10-03</td>\n",
              "      <td>FR</td>\n",
              "      <td>35</td>\n",
              "      <td>0</td>\n",
              "      <td>CBAPCJRTFNUJG</td>\n",
              "    </tr>\n",
              "    <tr>\n",
              "      <th>3</th>\n",
              "      <td>7</td>\n",
              "      <td>2015-10-03</td>\n",
              "      <td>UK</td>\n",
              "      <td>73</td>\n",
              "      <td>0</td>\n",
              "      <td>PRGXJZAJKMXRH</td>\n",
              "    </tr>\n",
              "    <tr>\n",
              "      <th>4</th>\n",
              "      <td>7</td>\n",
              "      <td>2015-10-03</td>\n",
              "      <td>MX</td>\n",
              "      <td>35</td>\n",
              "      <td>0</td>\n",
              "      <td>PRGXJZAJKMXRH</td>\n",
              "    </tr>\n",
              "    <tr>\n",
              "      <th>...</th>\n",
              "      <td>...</td>\n",
              "      <td>...</td>\n",
              "      <td>...</td>\n",
              "      <td>...</td>\n",
              "      <td>...</td>\n",
              "      <td>...</td>\n",
              "    </tr>\n",
              "    <tr>\n",
              "      <th>97336</th>\n",
              "      <td>19934</td>\n",
              "      <td>2015-11-27</td>\n",
              "      <td>UK</td>\n",
              "      <td>35</td>\n",
              "      <td>1</td>\n",
              "      <td>AWMDRMOFTSZIH</td>\n",
              "    </tr>\n",
              "    <tr>\n",
              "      <th>97337</th>\n",
              "      <td>19941</td>\n",
              "      <td>2015-11-27</td>\n",
              "      <td>DE</td>\n",
              "      <td>31</td>\n",
              "      <td>1</td>\n",
              "      <td>QAUSDXXLVUERE</td>\n",
              "    </tr>\n",
              "    <tr>\n",
              "      <th>97338</th>\n",
              "      <td>19948</td>\n",
              "      <td>2015-11-27</td>\n",
              "      <td>UK</td>\n",
              "      <td>22</td>\n",
              "      <td>1</td>\n",
              "      <td>DCYLHYFLMRODO</td>\n",
              "    </tr>\n",
              "    <tr>\n",
              "      <th>97339</th>\n",
              "      <td>19953</td>\n",
              "      <td>2015-11-27</td>\n",
              "      <td>UK</td>\n",
              "      <td>35</td>\n",
              "      <td>1</td>\n",
              "      <td>LROILUYWCNVWQ</td>\n",
              "    </tr>\n",
              "    <tr>\n",
              "      <th>97340</th>\n",
              "      <td>19984</td>\n",
              "      <td>2015-11-27</td>\n",
              "      <td>FR</td>\n",
              "      <td>15</td>\n",
              "      <td>1</td>\n",
              "      <td>VFXAMMQDFORSS</td>\n",
              "    </tr>\n",
              "  </tbody>\n",
              "</table>\n",
              "<p>97341 rows × 6 columns</p>\n",
              "</div>\n",
              "      <button class=\"colab-df-convert\" onclick=\"convertToInteractive('df-0a0ab36c-31c9-4302-9168-677a0ff02143')\"\n",
              "              title=\"Convert this dataframe to an interactive table.\"\n",
              "              style=\"display:none;\">\n",
              "        \n",
              "  <svg xmlns=\"http://www.w3.org/2000/svg\" height=\"24px\"viewBox=\"0 0 24 24\"\n",
              "       width=\"24px\">\n",
              "    <path d=\"M0 0h24v24H0V0z\" fill=\"none\"/>\n",
              "    <path d=\"M18.56 5.44l.94 2.06.94-2.06 2.06-.94-2.06-.94-.94-2.06-.94 2.06-2.06.94zm-11 1L8.5 8.5l.94-2.06 2.06-.94-2.06-.94L8.5 2.5l-.94 2.06-2.06.94zm10 10l.94 2.06.94-2.06 2.06-.94-2.06-.94-.94-2.06-.94 2.06-2.06.94z\"/><path d=\"M17.41 7.96l-1.37-1.37c-.4-.4-.92-.59-1.43-.59-.52 0-1.04.2-1.43.59L10.3 9.45l-7.72 7.72c-.78.78-.78 2.05 0 2.83L4 21.41c.39.39.9.59 1.41.59.51 0 1.02-.2 1.41-.59l7.78-7.78 2.81-2.81c.8-.78.8-2.07 0-2.86zM5.41 20L4 18.59l7.72-7.72 1.47 1.35L5.41 20z\"/>\n",
              "  </svg>\n",
              "      </button>\n",
              "      \n",
              "  <style>\n",
              "    .colab-df-container {\n",
              "      display:flex;\n",
              "      flex-wrap:wrap;\n",
              "      gap: 12px;\n",
              "    }\n",
              "\n",
              "    .colab-df-convert {\n",
              "      background-color: #E8F0FE;\n",
              "      border: none;\n",
              "      border-radius: 50%;\n",
              "      cursor: pointer;\n",
              "      display: none;\n",
              "      fill: #1967D2;\n",
              "      height: 32px;\n",
              "      padding: 0 0 0 0;\n",
              "      width: 32px;\n",
              "    }\n",
              "\n",
              "    .colab-df-convert:hover {\n",
              "      background-color: #E2EBFA;\n",
              "      box-shadow: 0px 1px 2px rgba(60, 64, 67, 0.3), 0px 1px 3px 1px rgba(60, 64, 67, 0.15);\n",
              "      fill: #174EA6;\n",
              "    }\n",
              "\n",
              "    [theme=dark] .colab-df-convert {\n",
              "      background-color: #3B4455;\n",
              "      fill: #D2E3FC;\n",
              "    }\n",
              "\n",
              "    [theme=dark] .colab-df-convert:hover {\n",
              "      background-color: #434B5C;\n",
              "      box-shadow: 0px 1px 3px 1px rgba(0, 0, 0, 0.15);\n",
              "      filter: drop-shadow(0px 1px 2px rgba(0, 0, 0, 0.3));\n",
              "      fill: #FFFFFF;\n",
              "    }\n",
              "  </style>\n",
              "\n",
              "      <script>\n",
              "        const buttonEl =\n",
              "          document.querySelector('#df-0a0ab36c-31c9-4302-9168-677a0ff02143 button.colab-df-convert');\n",
              "        buttonEl.style.display =\n",
              "          google.colab.kernel.accessAllowed ? 'block' : 'none';\n",
              "\n",
              "        async function convertToInteractive(key) {\n",
              "          const element = document.querySelector('#df-0a0ab36c-31c9-4302-9168-677a0ff02143');\n",
              "          const dataTable =\n",
              "            await google.colab.kernel.invokeFunction('convertToInteractive',\n",
              "                                                     [key], {});\n",
              "          if (!dataTable) return;\n",
              "\n",
              "          const docLinkHtml = 'Like what you see? Visit the ' +\n",
              "            '<a target=\"_blank\" href=https://colab.research.google.com/notebooks/data_table.ipynb>data table notebook</a>'\n",
              "            + ' to learn more about interactive tables.';\n",
              "          element.innerHTML = '';\n",
              "          dataTable['output_type'] = 'display_data';\n",
              "          await google.colab.output.renderOutput(dataTable, element);\n",
              "          const docLink = document.createElement('div');\n",
              "          docLink.innerHTML = docLinkHtml;\n",
              "          element.appendChild(docLink);\n",
              "        }\n",
              "      </script>\n",
              "    </div>\n",
              "  </div>\n",
              "  "
            ]
          },
          "metadata": {},
          "execution_count": 2
        }
      ]
    },
    {
      "cell_type": "markdown",
      "source": [
        "Note that the user_id is not unique value. Same users can perform transactions multiple time.<br>\n",
        "Use data.info to check whether the Data type in every column is appropriate."
      ],
      "metadata": {
        "id": "JMkYl4jIXlgO"
      }
    },
    {
      "cell_type": "code",
      "source": [
        "data.info()"
      ],
      "metadata": {
        "colab": {
          "base_uri": "https://localhost:8080/"
        },
        "id": "uI3XhB2zLmUh",
        "outputId": "4f4e0d41-9412-47b7-9512-0da26ff7f0b6"
      },
      "execution_count": null,
      "outputs": [
        {
          "output_type": "stream",
          "name": "stdout",
          "text": [
            "<class 'pandas.core.frame.DataFrame'>\n",
            "RangeIndex: 97341 entries, 0 to 97340\n",
            "Data columns (total 6 columns):\n",
            " #   Column       Non-Null Count  Dtype         \n",
            "---  ------       --------------  -----         \n",
            " 0   user_id      97341 non-null  object        \n",
            " 1   date         97341 non-null  datetime64[ns]\n",
            " 2   country      97341 non-null  object        \n",
            " 3   money_spent  97341 non-null  int64         \n",
            " 4   is_referral  97341 non-null  int64         \n",
            " 5   device_id    97341 non-null  object        \n",
            "dtypes: datetime64[ns](1), int64(2), object(3)\n",
            "memory usage: 4.5+ MB\n"
          ]
        }
      ]
    },
    {
      "cell_type": "markdown",
      "source": [
        "## Task(1) Is users from referral program spent more than normal users?\n"
      ],
      "metadata": {
        "id": "qn_cvKBL_Omw"
      }
    },
    {
      "cell_type": "markdown",
      "source": [
        "Our challenge is to see if the users obtained from referral channel (labeled by 1 in 'is_referral feature')really spent much more money than common users(labeled by 1 in 'is_referral feature'). The users imformation include device_id, user_id, country, date, is_referral and money they spent. "
      ],
      "metadata": {
        "id": "h4V4RwOOAfmy"
      }
    },
    {
      "cell_type": "markdown",
      "source": [
        "Now let's define A group and B group. I define A group(test group) as users from referral channel where as B group are not. (control group). "
      ],
      "metadata": {
        "id": "OJFemddMCBrW"
      }
    },
    {
      "cell_type": "code",
      "source": [
        "test=data[data['is_referral']==1]\n",
        "control=data[data['is_referral']==0]"
      ],
      "metadata": {
        "id": "v9lRJGvpMr1Q"
      },
      "execution_count": null,
      "outputs": []
    },
    {
      "cell_type": "code",
      "source": [
        "print('----test_data-----')\n",
        "print(test.describe(include='all'))\n",
        "print('----control_data----')\n",
        "print(control.describe(include='all'))"
      ],
      "metadata": {
        "colab": {
          "base_uri": "https://localhost:8080/"
        },
        "id": "Sr8BmQWGNNzw",
        "outputId": "aad0e883-9aba-40a3-f605-bd6eaf46a9c3"
      },
      "execution_count": null,
      "outputs": [
        {
          "output_type": "stream",
          "name": "stdout",
          "text": [
            "----test_data-----\n",
            "       user_id                 date country   money_spent  is_referral  \\\n",
            "count    28017                28017   28017  28017.000000      28017.0   \n",
            "unique   12715                   28       9           NaN          NaN   \n",
            "top       9803  2015-11-14 00:00:00      FR           NaN          NaN   \n",
            "freq        10                 1855    4748           NaN          NaN   \n",
            "first      NaN  2015-10-31 00:00:00     NaN           NaN          NaN   \n",
            "last       NaN  2015-11-27 00:00:00     NaN           NaN          NaN   \n",
            "mean       NaN                  NaN     NaN     46.963879          1.0   \n",
            "std        NaN                  NaN     NaN     24.396786          0.0   \n",
            "min        NaN                  NaN     NaN     10.000000          1.0   \n",
            "25%        NaN                  NaN     NaN     28.000000          1.0   \n",
            "50%        NaN                  NaN     NaN     44.000000          1.0   \n",
            "75%        NaN                  NaN     NaN     62.000000          1.0   \n",
            "max        NaN                  NaN     NaN    198.000000          1.0   \n",
            "\n",
            "            device_id  \n",
            "count           28017  \n",
            "unique           9157  \n",
            "top     DEPBWTYADPNYI  \n",
            "freq               18  \n",
            "first             NaN  \n",
            "last              NaN  \n",
            "mean              NaN  \n",
            "std               NaN  \n",
            "min               NaN  \n",
            "25%               NaN  \n",
            "50%               NaN  \n",
            "75%               NaN  \n",
            "max               NaN  \n",
            "----control_data----\n",
            "       user_id                 date country   money_spent  is_referral  \\\n",
            "count    69324                69324   69324  69324.000000      69324.0   \n",
            "unique   11951                   56       9           NaN          NaN   \n",
            "top       1107  2015-10-25 00:00:00      US           NaN          NaN   \n",
            "freq        27                 3151   11145           NaN          NaN   \n",
            "first      NaN  2015-10-03 00:00:00     NaN           NaN          NaN   \n",
            "last       NaN  2015-11-27 00:00:00     NaN           NaN          NaN   \n",
            "mean       NaN                  NaN     NaN     43.774335          0.0   \n",
            "std        NaN                  NaN     NaN     22.044045          0.0   \n",
            "min        NaN                  NaN     NaN     10.000000          0.0   \n",
            "25%        NaN                  NaN     NaN     27.000000          0.0   \n",
            "50%        NaN                  NaN     NaN     41.000000          0.0   \n",
            "75%        NaN                  NaN     NaN     57.000000          0.0   \n",
            "max        NaN                  NaN     NaN    220.000000          0.0   \n",
            "\n",
            "            device_id  \n",
            "count           69324  \n",
            "unique          13517  \n",
            "top     JOVUEUUQPQVXO  \n",
            "freq               35  \n",
            "first             NaN  \n",
            "last              NaN  \n",
            "mean              NaN  \n",
            "std               NaN  \n",
            "min               NaN  \n",
            "25%               NaN  \n",
            "50%               NaN  \n",
            "75%               NaN  \n",
            "max               NaN  \n"
          ]
        },
        {
          "output_type": "stream",
          "name": "stderr",
          "text": [
            "<ipython-input-5-71a59a7b1107>:2: FutureWarning: Treating datetime data as categorical rather than numeric in `.describe` is deprecated and will be removed in a future version of pandas. Specify `datetime_is_numeric=True` to silence this warning and adopt the future behavior now.\n",
            "  print(test.describe(include='all'))\n",
            "<ipython-input-5-71a59a7b1107>:4: FutureWarning: Treating datetime data as categorical rather than numeric in `.describe` is deprecated and will be removed in a future version of pandas. Specify `datetime_is_numeric=True` to silence this warning and adopt the future behavior now.\n",
            "  print(control.describe(include='all'))\n"
          ]
        }
      ]
    },
    {
      "cell_type": "markdown",
      "source": [
        "Looking carefully to the start date in both test group and control group, we can see they are different. The start date of control group is much more earlier than test group. (**test group:2015-10-31, control group: 2015-10-03)** So the referral program may start up at 10/31."
      ],
      "metadata": {
        "id": "546xjQnZC9xb"
      }
    },
    {
      "cell_type": "code",
      "source": [
        "sns.distplot(test['money_spent'])\n",
        "sns.distplot(control['money_spent'])"
      ],
      "metadata": {
        "colab": {
          "base_uri": "https://localhost:8080/",
          "height": 389
        },
        "id": "153zh0HVOmp7",
        "outputId": "1e93012a-73a3-44d7-c7ed-bb078a08d20d"
      },
      "execution_count": null,
      "outputs": [
        {
          "output_type": "stream",
          "name": "stderr",
          "text": [
            "/usr/local/lib/python3.8/dist-packages/seaborn/distributions.py:2619: FutureWarning: `distplot` is a deprecated function and will be removed in a future version. Please adapt your code to use either `displot` (a figure-level function with similar flexibility) or `histplot` (an axes-level function for histograms).\n",
            "  warnings.warn(msg, FutureWarning)\n",
            "/usr/local/lib/python3.8/dist-packages/seaborn/distributions.py:2619: FutureWarning: `distplot` is a deprecated function and will be removed in a future version. Please adapt your code to use either `displot` (a figure-level function with similar flexibility) or `histplot` (an axes-level function for histograms).\n",
            "  warnings.warn(msg, FutureWarning)\n"
          ]
        },
        {
          "output_type": "execute_result",
          "data": {
            "text/plain": [
              "<matplotlib.axes._subplots.AxesSubplot at 0x7f58e61cbac0>"
            ]
          },
          "metadata": {},
          "execution_count": 6
        },
        {
          "output_type": "display_data",
          "data": {
            "text/plain": [
              "<Figure size 432x288 with 1 Axes>"
            ],
            "image/png": "[encoded data removed]"
          },
          "metadata": {
            "needs_background": "light"
          }
        }
      ]
    },
    {
      "cell_type": "markdown",
      "source": [
        "Let's plot the distribution of test and control group, and we can see that they looks quite different. Maybe it's because the control group include data before 2015-10-31, but test group does not. So let's extract the data after 2015-10-31 from control group and compare it to test group."
      ],
      "metadata": {
        "id": "8-WSyCLxD9j3"
      }
    },
    {
      "cell_type": "code",
      "source": [
        "start_date=pd.to_datetime('2015-10-31')\n",
        "control_=control[control['date']>=start_date]\n",
        "sns.distplot(test['money_spent'])\n",
        "sns.distplot(control_['money_spent'])\n",
        "print('Ntest:\\t',test['money_spent'].shape[0],'Ncontrol:\\t',control_['money_spent'].shape[0])"
      ],
      "metadata": {
        "colab": {
          "base_uri": "https://localhost:8080/",
          "height": 389
        },
        "id": "fXbvl5-uRnST",
        "outputId": "16b1c4b9-53aa-484e-c028-1202179576e1"
      },
      "execution_count": null,
      "outputs": [
        {
          "output_type": "stream",
          "name": "stderr",
          "text": [
            "/usr/local/lib/python3.8/dist-packages/seaborn/distributions.py:2619: FutureWarning: `distplot` is a deprecated function and will be removed in a future version. Please adapt your code to use either `displot` (a figure-level function with similar flexibility) or `histplot` (an axes-level function for histograms).\n",
            "  warnings.warn(msg, FutureWarning)\n",
            "/usr/local/lib/python3.8/dist-packages/seaborn/distributions.py:2619: FutureWarning: `distplot` is a deprecated function and will be removed in a future version. Please adapt your code to use either `displot` (a figure-level function with similar flexibility) or `histplot` (an axes-level function for histograms).\n",
            "  warnings.warn(msg, FutureWarning)\n"
          ]
        },
        {
          "output_type": "stream",
          "name": "stdout",
          "text": [
            "Ntest:\t 28017 Ncontrol:\t 21983\n"
          ]
        },
        {
          "output_type": "display_data",
          "data": {
            "text/plain": [
              "<Figure size 432x288 with 1 Axes>"
            ],
            "image/png": "[encoded data removed]"
          },
          "metadata": {
            "needs_background": "light"
          }
        }
      ]
    },
    {
      "cell_type": "markdown",
      "source": [
        "The distribution looks much more closer! Though the bar plot don't perfectly match, the fitting lines are almost coincide. To analyze them in more restricted way, let's perform hypothesis test.\n",
        "\n",
        "Since the sample size is large(Ntest= 28017, Ncontrol=21983),\n",
        "and we can approximate the distribution of mean value as standard normal if the sample size is greater than 30 according to rule of thumb. Therefore, we can use z-test to justify if the test and control sample come from the same distribution or not. \n",
        "We can assume H0(null hypothesis) is that the money_spent in test group are not greater than the control group(test['money_spent']-control['money_spent']<=0). Then we use z-test to justify if H0 can be rejected or not to see if the money spent in test group(referral=1) improve. This is an one sided test, so we only need to calculate p_right."
      ],
      "metadata": {
        "id": "1spmtV9H7lRd"
      }
    },
    {
      "cell_type": "code",
      "source": [
        "from scipy.stats import norm\n",
        "n1=test.shape[0]\n",
        "sig1=test['money_spent'].var(ddof=1)\n",
        "n2=control_.shape[0]\n",
        "sig2=control_['money_spent'].var(ddof=1)\n",
        "sigma=np.sqrt(sig1/n1+sig2/n2)\n",
        "t=(test['money_spent'].mean()-control_['money_spent'].mean())/(sigma)\n",
        "p_right = 1 - norm.cdf(np.abs(t))\n",
        "p_right"
      ],
      "metadata": {
        "colab": {
          "base_uri": "https://localhost:8080/"
        },
        "id": "IDp4-m-b3r53",
        "outputId": "da4a4f05-3608-4d0f-8cf3-76bd64a687b0"
      },
      "execution_count": null,
      "outputs": [
        {
          "output_type": "execute_result",
          "data": {
            "text/plain": [
              "0.19323036202047217"
            ]
          },
          "metadata": {},
          "execution_count": 8
        }
      ]
    },
    {
      "cell_type": "markdown",
      "source": [
        "The outcoming p_value is about 19%, therefore we can't reject H0, or we can't say the test group spent more money than the control group. We can also verify the p_value we calculated from the scipy package. Note that we should devide the outcome p_value by 2 since we are performing an one-sided test."
      ],
      "metadata": {
        "id": "P2bg10VK7e9u"
      }
    },
    {
      "cell_type": "code",
      "source": [
        "\n",
        "t2, p_value2 = stats.ttest_ind(test['money_spent'], control_['money_spent'])\n",
        "print(\"p2:\\t\", p_value2/2)\n"
      ],
      "metadata": {
        "colab": {
          "base_uri": "https://localhost:8080/"
        },
        "id": "JqiSf8DBMxEq",
        "outputId": "bdc78fae-b0f1-4327-91b6-b8ed17a63d02"
      },
      "execution_count": null,
      "outputs": [
        {
          "output_type": "stream",
          "name": "stdout",
          "text": [
            "p2:\t 0.19315977134394074\n"
          ]
        }
      ]
    },
    {
      "cell_type": "markdown",
      "source": [
        "The result match the previous outcome. The p_value is 19% and larger than 5%. As the result, we can't reject H0. We have no reason to believe that users from referral channel spent more than those aren't. However, the distribution plots of test and control group show the difference, though it is small.\n",
        "\n",
        "To find where's the difference, we can explore the data by splitting the dataset into differnt segment.\n",
        "\n",
        "First let's focus on the date. I plot the proportion in each group(referral or not referral) to see if they distributed differntly based on the date or not."
      ],
      "metadata": {
        "id": "18aqj6v_HxaY"
      }
    },
    {
      "cell_type": "code",
      "source": [
        "df = pd.concat([control_[['date','is_referral']], test[['date','is_referral']]])\n",
        "(df['date'].\n",
        " groupby(df['is_referral']).\n",
        " value_counts(normalize=True).\n",
        " rename('proportion').\n",
        " reset_index().\n",
        " pipe((sns.lineplot,'data'),x='date',y='proportion',hue='is_referral'))"
      ],
      "metadata": {
        "colab": {
          "base_uri": "https://localhost:8080/",
          "height": 297
        },
        "id": "YHqYj5idM3wh",
        "outputId": "4f0c8988-3667-4295-c280-8fbc4db80528"
      },
      "execution_count": null,
      "outputs": [
        {
          "output_type": "execute_result",
          "data": {
            "text/plain": [
              "<matplotlib.axes._subplots.AxesSubplot at 0x7f58e5f67be0>"
            ]
          },
          "metadata": {},
          "execution_count": 10
        },
        {
          "output_type": "display_data",
          "data": {
            "text/plain": [
              "<Figure size 432x288 with 1 Axes>"
            ],
            "image/png": "[encoded data removed]"
          },
          "metadata": {
            "needs_background": "light"
          }
        }
      ]
    },
    {
      "cell_type": "markdown",
      "source": [
        "It seems that the test and control group have same disribution based on the date. This pattern may come from the higher traffic on every weekend. Both of them varies periodically and the line almost conincide. This tell us that the date may not be a good information to help us distinguish between test and control group, which implies that the date shows no impact on the referral program.\n",
        "\n",
        "How about country?\n",
        "Let's see how test group and control group disributed in different country."
      ],
      "metadata": {
        "id": "Id4JhvdQOykP"
      }
    },
    {
      "cell_type": "code",
      "source": [
        "df = pd.concat([control_[['country','is_referral']], test[['country','is_referral']]])\n",
        "(df['country'].\n",
        " groupby(df['is_referral']).\n",
        " value_counts(normalize=True).\n",
        " rename('proportion').\n",
        " reset_index().\n",
        " pipe((sns.barplot,'data'),x='country',y='proportion',hue='is_referral'))"
      ],
      "metadata": {
        "colab": {
          "base_uri": "https://localhost:8080/",
          "height": 297
        },
        "id": "v4vgZJ5VTDNF",
        "outputId": "19b0e763-f0be-47df-a16e-bdd30030a4dd"
      },
      "execution_count": null,
      "outputs": [
        {
          "output_type": "execute_result",
          "data": {
            "text/plain": [
              "<matplotlib.axes._subplots.AxesSubplot at 0x7f58e5a44a90>"
            ]
          },
          "metadata": {},
          "execution_count": 11
        },
        {
          "output_type": "display_data",
          "data": {
            "text/plain": [
              "<Figure size 432x288 with 1 Axes>"
            ],
            "image/png": "[encoded data removed]"
          },
          "metadata": {
            "needs_background": "light"
          }
        }
      ]
    },
    {
      "cell_type": "markdown",
      "source": [
        "Ideally, if the sample of test and control group distribute equivalently, the bars should be equal in height.\n",
        "However we can only see that in US, AS,DE. We can see slightly difference in test and control group in other countries. Especially in UK, FR and MX. This implies that for the user obtained by referral program, they are more likely from UK, and less likely from MX and FR. To see this numerically, I create a DataFrame to see the proportion of all users, users in test group and users in control group in each country. The diff(%) column refers the different of proportion of test group and control group divided by the proportion of total users in each country.\n",
        "\n"
      ],
      "metadata": {
        "id": "0PNzvS82BhMn"
      }
    },
    {
      "cell_type": "code",
      "source": [
        "result=data[data['date']>=start_date]\n",
        "users = result.groupby('country')['user_id'].agg([\n",
        "                                ('Count_proportion', 'count'),                 \n",
        "                                (\"user_test_proportion\", lambda x: x[result[\"is_referral\"]==1].count()),\n",
        "                                (\"user_control_proportion\", lambda x: x[result[\"is_referral\"]==0].count())\n",
        "                                ],axis=1)\n",
        "users['user_test_proportion']/=users['user_test_proportion'].sum()\n",
        "users['user_control_proportion']/=users['user_control_proportion'].sum()\n",
        "users['Count_proportion']/=users['Count_proportion'].sum()\n",
        "users['diff(%)']=abs(users['user_test_proportion']-users['user_control_proportion'])*100/users['Count_proportion']\n",
        "users"
      ],
      "metadata": {
        "colab": {
          "base_uri": "https://localhost:8080/",
          "height": 363
        },
        "id": "Sod6TeEYBp_9",
        "outputId": "9da68511-64a1-43af-926a-f9010e2eef6f"
      },
      "execution_count": null,
      "outputs": [
        {
          "output_type": "execute_result",
          "data": {
            "text/plain": [
              "         Count_proportion  user_test_proportion  user_control_proportion  \\\n",
              "country                                                                    \n",
              "CA                0.08960              0.089446                 0.089797   \n",
              "CH                0.00956              0.009958                 0.009052   \n",
              "DE                0.09186              0.092016                 0.091662   \n",
              "ES                0.10892              0.109291                 0.108447   \n",
              "FR                0.17120              0.169469                 0.173407   \n",
              "IT                0.12764              0.127851                 0.127371   \n",
              "MX                0.09184              0.090624                 0.093390   \n",
              "UK                0.16186              0.163758                 0.159441   \n",
              "US                0.14752              0.147589                 0.147432   \n",
              "\n",
              "          diff(%)  \n",
              "country            \n",
              "CA       0.391705  \n",
              "CH       9.474791  \n",
              "DE       0.385177  \n",
              "ES       0.774285  \n",
              "FR       2.300343  \n",
              "IT       0.375899  \n",
              "MX       3.012628  \n",
              "UK       2.666707  \n",
              "US       0.106329  "
            ],
            "text/html": [
              "\n",
              "  <div id=\"df-182e436c-0087-49ea-bab7-8bb6b319231b\">\n",
              "    <div class=\"colab-df-container\">\n",
              "      <div>\n",
              "<style scoped>\n",
              "    .dataframe tbody tr th:only-of-type {\n",
              "        vertical-align: middle;\n",
              "    }\n",
              "\n",
              "    .dataframe tbody tr th {\n",
              "        vertical-align: top;\n",
              "    }\n",
              "\n",
              "    .dataframe thead th {\n",
              "        text-align: right;\n",
              "    }\n",
              "</style>\n",
              "<table border=\"1\" class=\"dataframe\">\n",
              "  <thead>\n",
              "    <tr style=\"text-align: right;\">\n",
              "      <th></th>\n",
              "      <th>Count_proportion</th>\n",
              "      <th>user_test_proportion</th>\n",
              "      <th>user_control_proportion</th>\n",
              "      <th>diff(%)</th>\n",
              "    </tr>\n",
              "    <tr>\n",
              "      <th>country</th>\n",
              "      <th></th>\n",
              "      <th></th>\n",
              "      <th></th>\n",
              "      <th></th>\n",
              "    </tr>\n",
              "  </thead>\n",
              "  <tbody>\n",
              "    <tr>\n",
              "      <th>CA</th>\n",
              "      <td>0.08960</td>\n",
              "      <td>0.089446</td>\n",
              "      <td>0.089797</td>\n",
              "      <td>0.391705</td>\n",
              "    </tr>\n",
              "    <tr>\n",
              "      <th>CH</th>\n",
              "      <td>0.00956</td>\n",
              "      <td>0.009958</td>\n",
              "      <td>0.009052</td>\n",
              "      <td>9.474791</td>\n",
              "    </tr>\n",
              "    <tr>\n",
              "      <th>DE</th>\n",
              "      <td>0.09186</td>\n",
              "      <td>0.092016</td>\n",
              "      <td>0.091662</td>\n",
              "      <td>0.385177</td>\n",
              "    </tr>\n",
              "    <tr>\n",
              "      <th>ES</th>\n",
              "      <td>0.10892</td>\n",
              "      <td>0.109291</td>\n",
              "      <td>0.108447</td>\n",
              "      <td>0.774285</td>\n",
              "    </tr>\n",
              "    <tr>\n",
              "      <th>FR</th>\n",
              "      <td>0.17120</td>\n",
              "      <td>0.169469</td>\n",
              "      <td>0.173407</td>\n",
              "      <td>2.300343</td>\n",
              "    </tr>\n",
              "    <tr>\n",
              "      <th>IT</th>\n",
              "      <td>0.12764</td>\n",
              "      <td>0.127851</td>\n",
              "      <td>0.127371</td>\n",
              "      <td>0.375899</td>\n",
              "    </tr>\n",
              "    <tr>\n",
              "      <th>MX</th>\n",
              "      <td>0.09184</td>\n",
              "      <td>0.090624</td>\n",
              "      <td>0.093390</td>\n",
              "      <td>3.012628</td>\n",
              "    </tr>\n",
              "    <tr>\n",
              "      <th>UK</th>\n",
              "      <td>0.16186</td>\n",
              "      <td>0.163758</td>\n",
              "      <td>0.159441</td>\n",
              "      <td>2.666707</td>\n",
              "    </tr>\n",
              "    <tr>\n",
              "      <th>US</th>\n",
              "      <td>0.14752</td>\n",
              "      <td>0.147589</td>\n",
              "      <td>0.147432</td>\n",
              "      <td>0.106329</td>\n",
              "    </tr>\n",
              "  </tbody>\n",
              "</table>\n",
              "</div>\n",
              "      <button class=\"colab-df-convert\" onclick=\"convertToInteractive('df-182e436c-0087-49ea-bab7-8bb6b319231b')\"\n",
              "              title=\"Convert this dataframe to an interactive table.\"\n",
              "              style=\"display:none;\">\n",
              "        \n",
              "  <svg xmlns=\"http://www.w3.org/2000/svg\" height=\"24px\"viewBox=\"0 0 24 24\"\n",
              "       width=\"24px\">\n",
              "    <path d=\"M0 0h24v24H0V0z\" fill=\"none\"/>\n",
              "    <path d=\"M18.56 5.44l.94 2.06.94-2.06 2.06-.94-2.06-.94-.94-2.06-.94 2.06-2.06.94zm-11 1L8.5 8.5l.94-2.06 2.06-.94-2.06-.94L8.5 2.5l-.94 2.06-2.06.94zm10 10l.94 2.06.94-2.06 2.06-.94-2.06-.94-.94-2.06-.94 2.06-2.06.94z\"/><path d=\"M17.41 7.96l-1.37-1.37c-.4-.4-.92-.59-1.43-.59-.52 0-1.04.2-1.43.59L10.3 9.45l-7.72 7.72c-.78.78-.78 2.05 0 2.83L4 21.41c.39.39.9.59 1.41.59.51 0 1.02-.2 1.41-.59l7.78-7.78 2.81-2.81c.8-.78.8-2.07 0-2.86zM5.41 20L4 18.59l7.72-7.72 1.47 1.35L5.41 20z\"/>\n",
              "  </svg>\n",
              "      </button>\n",
              "      \n",
              "  <style>\n",
              "    .colab-df-container {\n",
              "      display:flex;\n",
              "      flex-wrap:wrap;\n",
              "      gap: 12px;\n",
              "    }\n",
              "\n",
              "    .colab-df-convert {\n",
              "      background-color: #E8F0FE;\n",
              "      border: none;\n",
              "      border-radius: 50%;\n",
              "      cursor: pointer;\n",
              "      display: none;\n",
              "      fill: #1967D2;\n",
              "      height: 32px;\n",
              "      padding: 0 0 0 0;\n",
              "      width: 32px;\n",
              "    }\n",
              "\n",
              "    .colab-df-convert:hover {\n",
              "      background-color: #E2EBFA;\n",
              "      box-shadow: 0px 1px 2px rgba(60, 64, 67, 0.3), 0px 1px 3px 1px rgba(60, 64, 67, 0.15);\n",
              "      fill: #174EA6;\n",
              "    }\n",
              "\n",
              "    [theme=dark] .colab-df-convert {\n",
              "      background-color: #3B4455;\n",
              "      fill: #D2E3FC;\n",
              "    }\n",
              "\n",
              "    [theme=dark] .colab-df-convert:hover {\n",
              "      background-color: #434B5C;\n",
              "      box-shadow: 0px 1px 3px 1px rgba(0, 0, 0, 0.15);\n",
              "      filter: drop-shadow(0px 1px 2px rgba(0, 0, 0, 0.3));\n",
              "      fill: #FFFFFF;\n",
              "    }\n",
              "  </style>\n",
              "\n",
              "      <script>\n",
              "        const buttonEl =\n",
              "          document.querySelector('#df-182e436c-0087-49ea-bab7-8bb6b319231b button.colab-df-convert');\n",
              "        buttonEl.style.display =\n",
              "          google.colab.kernel.accessAllowed ? 'block' : 'none';\n",
              "\n",
              "        async function convertToInteractive(key) {\n",
              "          const element = document.querySelector('#df-182e436c-0087-49ea-bab7-8bb6b319231b');\n",
              "          const dataTable =\n",
              "            await google.colab.kernel.invokeFunction('convertToInteractive',\n",
              "                                                     [key], {});\n",
              "          if (!dataTable) return;\n",
              "\n",
              "          const docLinkHtml = 'Like what you see? Visit the ' +\n",
              "            '<a target=\"_blank\" href=https://colab.research.google.com/notebooks/data_table.ipynb>data table notebook</a>'\n",
              "            + ' to learn more about interactive tables.';\n",
              "          element.innerHTML = '';\n",
              "          dataTable['output_type'] = 'display_data';\n",
              "          await google.colab.output.renderOutput(dataTable, element);\n",
              "          const docLink = document.createElement('div');\n",
              "          docLink.innerHTML = docLinkHtml;\n",
              "          element.appendChild(docLink);\n",
              "        }\n",
              "      </script>\n",
              "    </div>\n",
              "  </div>\n",
              "  "
            ]
          },
          "metadata": {},
          "execution_count": 12
        }
      ]
    },
    {
      "cell_type": "markdown",
      "source": [
        "From the table we can see that in CH, FR, MX and UK, the difference of proportion is relatively high(>1%). The demographic in test and control group are not totally same. So if we want to discuss the question about \"Whether users from referral program spent more money or not\", the sampling still have room for improvement.\n",
        " "
      ],
      "metadata": {
        "id": "Rc3hnTkAg0zp"
      }
    },
    {
      "cell_type": "code",
      "source": [
        "pdata=data[data['date']>=start_date]\n",
        "pvalue = pdata.groupby('country')['money_spent'].agg([\n",
        "                                ('test_money_spent',lambda x:x[pdata['is_referral']==1].mean()),\n",
        "                                ('control_money_spent',lambda x:x[pdata['is_referral']==0].mean()),\n",
        "                                (\"p_value\", lambda x: stats.ttest_ind(x[pdata[\"is_referral\"]==1], \n",
        "                                                                    x[pdata[\"is_referral\"]==0], \n",
        "                                                                    equal_var=False\n",
        "                                                                    ).pvalue/2),\n",
        "                                ],axis=1)\n",
        "pvalue"
      ],
      "metadata": {
        "colab": {
          "base_uri": "https://localhost:8080/",
          "height": 363
        },
        "id": "qU48XxD-AIDU",
        "outputId": "61717b5b-41cb-4e0e-8d0c-3988d830f860"
      },
      "execution_count": null,
      "outputs": [
        {
          "output_type": "execute_result",
          "data": {
            "text/plain": [
              "         test_money_spent  control_money_spent   p_value\n",
              "country                                                 \n",
              "CA              48.820032            49.801925  0.115387\n",
              "CH              59.544803            60.582915  0.360660\n",
              "DE              49.072149            48.577171  0.270822\n",
              "ES              44.634879            44.389262  0.327048\n",
              "FR              44.608045            44.591028  0.484481\n",
              "IT              44.511167            44.991786  0.174027\n",
              "MX              42.939346            42.818802  0.430619\n",
              "UK              49.630776            48.443367  0.025613\n",
              "US              49.742201            49.517124  0.363031"
            ],
            "text/html": [
              "\n",
              "  <div id=\"df-907b76f3-46d0-43e1-ab51-f41cbe31d1cd\">\n",
              "    <div class=\"colab-df-container\">\n",
              "      <div>\n",
              "<style scoped>\n",
              "    .dataframe tbody tr th:only-of-type {\n",
              "        vertical-align: middle;\n",
              "    }\n",
              "\n",
              "    .dataframe tbody tr th {\n",
              "        vertical-align: top;\n",
              "    }\n",
              "\n",
              "    .dataframe thead th {\n",
              "        text-align: right;\n",
              "    }\n",
              "</style>\n",
              "<table border=\"1\" class=\"dataframe\">\n",
              "  <thead>\n",
              "    <tr style=\"text-align: right;\">\n",
              "      <th></th>\n",
              "      <th>test_money_spent</th>\n",
              "      <th>control_money_spent</th>\n",
              "      <th>p_value</th>\n",
              "    </tr>\n",
              "    <tr>\n",
              "      <th>country</th>\n",
              "      <th></th>\n",
              "      <th></th>\n",
              "      <th></th>\n",
              "    </tr>\n",
              "  </thead>\n",
              "  <tbody>\n",
              "    <tr>\n",
              "      <th>CA</th>\n",
              "      <td>48.820032</td>\n",
              "      <td>49.801925</td>\n",
              "      <td>0.115387</td>\n",
              "    </tr>\n",
              "    <tr>\n",
              "      <th>CH</th>\n",
              "      <td>59.544803</td>\n",
              "      <td>60.582915</td>\n",
              "      <td>0.360660</td>\n",
              "    </tr>\n",
              "    <tr>\n",
              "      <th>DE</th>\n",
              "      <td>49.072149</td>\n",
              "      <td>48.577171</td>\n",
              "      <td>0.270822</td>\n",
              "    </tr>\n",
              "    <tr>\n",
              "      <th>ES</th>\n",
              "      <td>44.634879</td>\n",
              "      <td>44.389262</td>\n",
              "      <td>0.327048</td>\n",
              "    </tr>\n",
              "    <tr>\n",
              "      <th>FR</th>\n",
              "      <td>44.608045</td>\n",
              "      <td>44.591028</td>\n",
              "      <td>0.484481</td>\n",
              "    </tr>\n",
              "    <tr>\n",
              "      <th>IT</th>\n",
              "      <td>44.511167</td>\n",
              "      <td>44.991786</td>\n",
              "      <td>0.174027</td>\n",
              "    </tr>\n",
              "    <tr>\n",
              "      <th>MX</th>\n",
              "      <td>42.939346</td>\n",
              "      <td>42.818802</td>\n",
              "      <td>0.430619</td>\n",
              "    </tr>\n",
              "    <tr>\n",
              "      <th>UK</th>\n",
              "      <td>49.630776</td>\n",
              "      <td>48.443367</td>\n",
              "      <td>0.025613</td>\n",
              "    </tr>\n",
              "    <tr>\n",
              "      <th>US</th>\n",
              "      <td>49.742201</td>\n",
              "      <td>49.517124</td>\n",
              "      <td>0.363031</td>\n",
              "    </tr>\n",
              "  </tbody>\n",
              "</table>\n",
              "</div>\n",
              "      <button class=\"colab-df-convert\" onclick=\"convertToInteractive('df-907b76f3-46d0-43e1-ab51-f41cbe31d1cd')\"\n",
              "              title=\"Convert this dataframe to an interactive table.\"\n",
              "              style=\"display:none;\">\n",
              "        \n",
              "  <svg xmlns=\"http://www.w3.org/2000/svg\" height=\"24px\"viewBox=\"0 0 24 24\"\n",
              "       width=\"24px\">\n",
              "    <path d=\"M0 0h24v24H0V0z\" fill=\"none\"/>\n",
              "    <path d=\"M18.56 5.44l.94 2.06.94-2.06 2.06-.94-2.06-.94-.94-2.06-.94 2.06-2.06.94zm-11 1L8.5 8.5l.94-2.06 2.06-.94-2.06-.94L8.5 2.5l-.94 2.06-2.06.94zm10 10l.94 2.06.94-2.06 2.06-.94-2.06-.94-.94-2.06-.94 2.06-2.06.94z\"/><path d=\"M17.41 7.96l-1.37-1.37c-.4-.4-.92-.59-1.43-.59-.52 0-1.04.2-1.43.59L10.3 9.45l-7.72 7.72c-.78.78-.78 2.05 0 2.83L4 21.41c.39.39.9.59 1.41.59.51 0 1.02-.2 1.41-.59l7.78-7.78 2.81-2.81c.8-.78.8-2.07 0-2.86zM5.41 20L4 18.59l7.72-7.72 1.47 1.35L5.41 20z\"/>\n",
              "  </svg>\n",
              "      </button>\n",
              "      \n",
              "  <style>\n",
              "    .colab-df-container {\n",
              "      display:flex;\n",
              "      flex-wrap:wrap;\n",
              "      gap: 12px;\n",
              "    }\n",
              "\n",
              "    .colab-df-convert {\n",
              "      background-color: #E8F0FE;\n",
              "      border: none;\n",
              "      border-radius: 50%;\n",
              "      cursor: pointer;\n",
              "      display: none;\n",
              "      fill: #1967D2;\n",
              "      height: 32px;\n",
              "      padding: 0 0 0 0;\n",
              "      width: 32px;\n",
              "    }\n",
              "\n",
              "    .colab-df-convert:hover {\n",
              "      background-color: #E2EBFA;\n",
              "      box-shadow: 0px 1px 2px rgba(60, 64, 67, 0.3), 0px 1px 3px 1px rgba(60, 64, 67, 0.15);\n",
              "      fill: #174EA6;\n",
              "    }\n",
              "\n",
              "    [theme=dark] .colab-df-convert {\n",
              "      background-color: #3B4455;\n",
              "      fill: #D2E3FC;\n",
              "    }\n",
              "\n",
              "    [theme=dark] .colab-df-convert:hover {\n",
              "      background-color: #434B5C;\n",
              "      box-shadow: 0px 1px 3px 1px rgba(0, 0, 0, 0.15);\n",
              "      filter: drop-shadow(0px 1px 2px rgba(0, 0, 0, 0.3));\n",
              "      fill: #FFFFFF;\n",
              "    }\n",
              "  </style>\n",
              "\n",
              "      <script>\n",
              "        const buttonEl =\n",
              "          document.querySelector('#df-907b76f3-46d0-43e1-ab51-f41cbe31d1cd button.colab-df-convert');\n",
              "        buttonEl.style.display =\n",
              "          google.colab.kernel.accessAllowed ? 'block' : 'none';\n",
              "\n",
              "        async function convertToInteractive(key) {\n",
              "          const element = document.querySelector('#df-907b76f3-46d0-43e1-ab51-f41cbe31d1cd');\n",
              "          const dataTable =\n",
              "            await google.colab.kernel.invokeFunction('convertToInteractive',\n",
              "                                                     [key], {});\n",
              "          if (!dataTable) return;\n",
              "\n",
              "          const docLinkHtml = 'Like what you see? Visit the ' +\n",
              "            '<a target=\"_blank\" href=https://colab.research.google.com/notebooks/data_table.ipynb>data table notebook</a>'\n",
              "            + ' to learn more about interactive tables.';\n",
              "          element.innerHTML = '';\n",
              "          dataTable['output_type'] = 'display_data';\n",
              "          await google.colab.output.renderOutput(dataTable, element);\n",
              "          const docLink = document.createElement('div');\n",
              "          docLink.innerHTML = docLinkHtml;\n",
              "          element.appendChild(docLink);\n",
              "        }\n",
              "      </script>\n",
              "    </div>\n",
              "  </div>\n",
              "  "
            ]
          },
          "metadata": {},
          "execution_count": 13
        }
      ]
    },
    {
      "cell_type": "markdown",
      "source": [
        "Only UK has the p_value smaller than 5%, so I assume the test group spent more than control only in UK. The difference of mean money spent between the two group is about 1.2. "
      ],
      "metadata": {
        "id": "uWTZU2y8vbcl"
      }
    },
    {
      "cell_type": "markdown",
      "source": [
        "## Task(2) Does referral program makes the users spent more?"
      ],
      "metadata": {
        "id": "kzl8aBqSxozN"
      }
    },
    {
      "cell_type": "markdown",
      "source": [
        "To answer this question, we can divide the data into test and control group and perform A/B Test. From prevous section we know that the referral program start up at 10/31, so we can define the control group as data before 10/31, whereas test group as data after 10/31."
      ],
      "metadata": {
        "id": "y0RtKrMyXhuV"
      }
    },
    {
      "cell_type": "code",
      "source": [
        "start_date=pd.to_datetime('2015-10-31')\n",
        "data['test']=1\n",
        "data['test']=data['test'].where(data['date']>=start_date,0)\n",
        "data"
      ],
      "metadata": {
        "id": "hkBLJWgBvXcZ",
        "colab": {
          "base_uri": "https://localhost:8080/",
          "height": 424
        },
        "outputId": "094041f3-db91-4a6d-d841-3d24fcf9e86d"
      },
      "execution_count": null,
      "outputs": [
        {
          "output_type": "execute_result",
          "data": {
            "text/plain": [
              "      user_id       date country  money_spent  is_referral      device_id  \\\n",
              "0           2 2015-10-03      FR           65            0  EVDCJTZMVMJDG   \n",
              "1           3 2015-10-03      CA           54            0  WUBZFTVKXGQQX   \n",
              "2           6 2015-10-03      FR           35            0  CBAPCJRTFNUJG   \n",
              "3           7 2015-10-03      UK           73            0  PRGXJZAJKMXRH   \n",
              "4           7 2015-10-03      MX           35            0  PRGXJZAJKMXRH   \n",
              "...       ...        ...     ...          ...          ...            ...   \n",
              "97336   19934 2015-11-27      UK           35            1  AWMDRMOFTSZIH   \n",
              "97337   19941 2015-11-27      DE           31            1  QAUSDXXLVUERE   \n",
              "97338   19948 2015-11-27      UK           22            1  DCYLHYFLMRODO   \n",
              "97339   19953 2015-11-27      UK           35            1  LROILUYWCNVWQ   \n",
              "97340   19984 2015-11-27      FR           15            1  VFXAMMQDFORSS   \n",
              "\n",
              "       test  \n",
              "0         0  \n",
              "1         0  \n",
              "2         0  \n",
              "3         0  \n",
              "4         0  \n",
              "...     ...  \n",
              "97336     1  \n",
              "97337     1  \n",
              "97338     1  \n",
              "97339     1  \n",
              "97340     1  \n",
              "\n",
              "[97341 rows x 7 columns]"
            ],
            "text/html": [
              "\n",
              "  <div id=\"df-4d7d7209-5afe-412c-abe5-b6af8bcf23ba\">\n",
              "    <div class=\"colab-df-container\">\n",
              "      <div>\n",
              "<style scoped>\n",
              "    .dataframe tbody tr th:only-of-type {\n",
              "        vertical-align: middle;\n",
              "    }\n",
              "\n",
              "    .dataframe tbody tr th {\n",
              "        vertical-align: top;\n",
              "    }\n",
              "\n",
              "    .dataframe thead th {\n",
              "        text-align: right;\n",
              "    }\n",
              "</style>\n",
              "<table border=\"1\" class=\"dataframe\">\n",
              "  <thead>\n",
              "    <tr style=\"text-align: right;\">\n",
              "      <th></th>\n",
              "      <th>user_id</th>\n",
              "      <th>date</th>\n",
              "      <th>country</th>\n",
              "      <th>money_spent</th>\n",
              "      <th>is_referral</th>\n",
              "      <th>device_id</th>\n",
              "      <th>test</th>\n",
              "    </tr>\n",
              "  </thead>\n",
              "  <tbody>\n",
              "    <tr>\n",
              "      <th>0</th>\n",
              "      <td>2</td>\n",
              "      <td>2015-10-03</td>\n",
              "      <td>FR</td>\n",
              "      <td>65</td>\n",
              "      <td>0</td>\n",
              "      <td>EVDCJTZMVMJDG</td>\n",
              "      <td>0</td>\n",
              "    </tr>\n",
              "    <tr>\n",
              "      <th>1</th>\n",
              "      <td>3</td>\n",
              "      <td>2015-10-03</td>\n",
              "      <td>CA</td>\n",
              "      <td>54</td>\n",
              "      <td>0</td>\n",
              "      <td>WUBZFTVKXGQQX</td>\n",
              "      <td>0</td>\n",
              "    </tr>\n",
              "    <tr>\n",
              "      <th>2</th>\n",
              "      <td>6</td>\n",
              "      <td>2015-10-03</td>\n",
              "      <td>FR</td>\n",
              "      <td>35</td>\n",
              "      <td>0</td>\n",
              "      <td>CBAPCJRTFNUJG</td>\n",
              "      <td>0</td>\n",
              "    </tr>\n",
              "    <tr>\n",
              "      <th>3</th>\n",
              "      <td>7</td>\n",
              "      <td>2015-10-03</td>\n",
              "      <td>UK</td>\n",
              "      <td>73</td>\n",
              "      <td>0</td>\n",
              "      <td>PRGXJZAJKMXRH</td>\n",
              "      <td>0</td>\n",
              "    </tr>\n",
              "    <tr>\n",
              "      <th>4</th>\n",
              "      <td>7</td>\n",
              "      <td>2015-10-03</td>\n",
              "      <td>MX</td>\n",
              "      <td>35</td>\n",
              "      <td>0</td>\n",
              "      <td>PRGXJZAJKMXRH</td>\n",
              "      <td>0</td>\n",
              "    </tr>\n",
              "    <tr>\n",
              "      <th>...</th>\n",
              "      <td>...</td>\n",
              "      <td>...</td>\n",
              "      <td>...</td>\n",
              "      <td>...</td>\n",
              "      <td>...</td>\n",
              "      <td>...</td>\n",
              "      <td>...</td>\n",
              "    </tr>\n",
              "    <tr>\n",
              "      <th>97336</th>\n",
              "      <td>19934</td>\n",
              "      <td>2015-11-27</td>\n",
              "      <td>UK</td>\n",
              "      <td>35</td>\n",
              "      <td>1</td>\n",
              "      <td>AWMDRMOFTSZIH</td>\n",
              "      <td>1</td>\n",
              "    </tr>\n",
              "    <tr>\n",
              "      <th>97337</th>\n",
              "      <td>19941</td>\n",
              "      <td>2015-11-27</td>\n",
              "      <td>DE</td>\n",
              "      <td>31</td>\n",
              "      <td>1</td>\n",
              "      <td>QAUSDXXLVUERE</td>\n",
              "      <td>1</td>\n",
              "    </tr>\n",
              "    <tr>\n",
              "      <th>97338</th>\n",
              "      <td>19948</td>\n",
              "      <td>2015-11-27</td>\n",
              "      <td>UK</td>\n",
              "      <td>22</td>\n",
              "      <td>1</td>\n",
              "      <td>DCYLHYFLMRODO</td>\n",
              "      <td>1</td>\n",
              "    </tr>\n",
              "    <tr>\n",
              "      <th>97339</th>\n",
              "      <td>19953</td>\n",
              "      <td>2015-11-27</td>\n",
              "      <td>UK</td>\n",
              "      <td>35</td>\n",
              "      <td>1</td>\n",
              "      <td>LROILUYWCNVWQ</td>\n",
              "      <td>1</td>\n",
              "    </tr>\n",
              "    <tr>\n",
              "      <th>97340</th>\n",
              "      <td>19984</td>\n",
              "      <td>2015-11-27</td>\n",
              "      <td>FR</td>\n",
              "      <td>15</td>\n",
              "      <td>1</td>\n",
              "      <td>VFXAMMQDFORSS</td>\n",
              "      <td>1</td>\n",
              "    </tr>\n",
              "  </tbody>\n",
              "</table>\n",
              "<p>97341 rows × 7 columns</p>\n",
              "</div>\n",
              "      <button class=\"colab-df-convert\" onclick=\"convertToInteractive('df-4d7d7209-5afe-412c-abe5-b6af8bcf23ba')\"\n",
              "              title=\"Convert this dataframe to an interactive table.\"\n",
              "              style=\"display:none;\">\n",
              "        \n",
              "  <svg xmlns=\"http://www.w3.org/2000/svg\" height=\"24px\"viewBox=\"0 0 24 24\"\n",
              "       width=\"24px\">\n",
              "    <path d=\"M0 0h24v24H0V0z\" fill=\"none\"/>\n",
              "    <path d=\"M18.56 5.44l.94 2.06.94-2.06 2.06-.94-2.06-.94-.94-2.06-.94 2.06-2.06.94zm-11 1L8.5 8.5l.94-2.06 2.06-.94-2.06-.94L8.5 2.5l-.94 2.06-2.06.94zm10 10l.94 2.06.94-2.06 2.06-.94-2.06-.94-.94-2.06-.94 2.06-2.06.94z\"/><path d=\"M17.41 7.96l-1.37-1.37c-.4-.4-.92-.59-1.43-.59-.52 0-1.04.2-1.43.59L10.3 9.45l-7.72 7.72c-.78.78-.78 2.05 0 2.83L4 21.41c.39.39.9.59 1.41.59.51 0 1.02-.2 1.41-.59l7.78-7.78 2.81-2.81c.8-.78.8-2.07 0-2.86zM5.41 20L4 18.59l7.72-7.72 1.47 1.35L5.41 20z\"/>\n",
              "  </svg>\n",
              "      </button>\n",
              "      \n",
              "  <style>\n",
              "    .colab-df-container {\n",
              "      display:flex;\n",
              "      flex-wrap:wrap;\n",
              "      gap: 12px;\n",
              "    }\n",
              "\n",
              "    .colab-df-convert {\n",
              "      background-color: #E8F0FE;\n",
              "      border: none;\n",
              "      border-radius: 50%;\n",
              "      cursor: pointer;\n",
              "      display: none;\n",
              "      fill: #1967D2;\n",
              "      height: 32px;\n",
              "      padding: 0 0 0 0;\n",
              "      width: 32px;\n",
              "    }\n",
              "\n",
              "    .colab-df-convert:hover {\n",
              "      background-color: #E2EBFA;\n",
              "      box-shadow: 0px 1px 2px rgba(60, 64, 67, 0.3), 0px 1px 3px 1px rgba(60, 64, 67, 0.15);\n",
              "      fill: #174EA6;\n",
              "    }\n",
              "\n",
              "    [theme=dark] .colab-df-convert {\n",
              "      background-color: #3B4455;\n",
              "      fill: #D2E3FC;\n",
              "    }\n",
              "\n",
              "    [theme=dark] .colab-df-convert:hover {\n",
              "      background-color: #434B5C;\n",
              "      box-shadow: 0px 1px 3px 1px rgba(0, 0, 0, 0.15);\n",
              "      filter: drop-shadow(0px 1px 2px rgba(0, 0, 0, 0.3));\n",
              "      fill: #FFFFFF;\n",
              "    }\n",
              "  </style>\n",
              "\n",
              "      <script>\n",
              "        const buttonEl =\n",
              "          document.querySelector('#df-4d7d7209-5afe-412c-abe5-b6af8bcf23ba button.colab-df-convert');\n",
              "        buttonEl.style.display =\n",
              "          google.colab.kernel.accessAllowed ? 'block' : 'none';\n",
              "\n",
              "        async function convertToInteractive(key) {\n",
              "          const element = document.querySelector('#df-4d7d7209-5afe-412c-abe5-b6af8bcf23ba');\n",
              "          const dataTable =\n",
              "            await google.colab.kernel.invokeFunction('convertToInteractive',\n",
              "                                                     [key], {});\n",
              "          if (!dataTable) return;\n",
              "\n",
              "          const docLinkHtml = 'Like what you see? Visit the ' +\n",
              "            '<a target=\"_blank\" href=https://colab.research.google.com/notebooks/data_table.ipynb>data table notebook</a>'\n",
              "            + ' to learn more about interactive tables.';\n",
              "          element.innerHTML = '';\n",
              "          dataTable['output_type'] = 'display_data';\n",
              "          await google.colab.output.renderOutput(dataTable, element);\n",
              "          const docLink = document.createElement('div');\n",
              "          docLink.innerHTML = docLinkHtml;\n",
              "          element.appendChild(docLink);\n",
              "        }\n",
              "      </script>\n",
              "    </div>\n",
              "  </div>\n",
              "  "
            ]
          },
          "metadata": {},
          "execution_count": 26
        }
      ]
    },
    {
      "cell_type": "markdown",
      "source": [
        "Usually the sales will boost on weekend without any external factor. Let's plot and see."
      ],
      "metadata": {
        "id": "tZKDjZPd6Khm"
      }
    },
    {
      "cell_type": "code",
      "source": [
        "exp=data.groupby('date')['money_spent'].agg([('test',lambda x: x[data['test']==1].sum()),\n",
        "                                             ('control', lambda x: x[data['test']==0].sum())\n",
        "                                             ],axis=1)\n",
        "\n",
        "exp.plot(ylim=(40000,160000))"
      ],
      "metadata": {
        "id": "zKenZCLPYj58",
        "colab": {
          "base_uri": "https://localhost:8080/",
          "height": 336
        },
        "outputId": "90d3beb1-120a-4264-f595-1277ca06c085"
      },
      "execution_count": null,
      "outputs": [
        {
          "output_type": "execute_result",
          "data": {
            "text/plain": [
              "<matplotlib.axes._subplots.AxesSubplot at 0x7f58dbf2fb50>"
            ]
          },
          "metadata": {},
          "execution_count": 37
        },
        {
          "output_type": "display_data",
          "data": {
            "text/plain": [
              "<Figure size 432x288 with 1 Axes>"
            ],
            "image/png": "[encoded data removed]"
          },
          "metadata": {
            "needs_background": "light"
          }
        }
      ]
    },
    {
      "cell_type": "markdown",
      "source": [
        "Both test and control groups are periodic, and the pattern may comes from weekend days. <br>Also, the sale price does grow after October 31st. Let's perform z-test to see if we can reject the null hypothesis(money spent in test group=in control group)"
      ],
      "metadata": {
        "id": "KlKki5dYBb0x"
      }
    },
    {
      "cell_type": "code",
      "source": [
        "test=data[data['test']==1]\n",
        "control=data[data['test']==0]\n",
        "t2, p_value2 = stats.ttest_ind(test['money_spent'], control['money_spent'])\n",
        "print(\"p2:\\t\", p_value2/2)"
      ],
      "metadata": {
        "colab": {
          "base_uri": "https://localhost:8080/"
        },
        "id": "xXKRQru4a9aB",
        "outputId": "2d555979-87ea-4736-e4cc-ad6de0a0cb1c"
      },
      "execution_count": null,
      "outputs": [
        {
          "output_type": "stream",
          "name": "stdout",
          "text": [
            "p2:\t 2.651757092919071e-209\n"
          ]
        }
      ]
    },
    {
      "cell_type": "markdown",
      "source": [
        "The p_value is smaller than 5%. We do have reason to believe that the users spent more money during referral program period. "
      ],
      "metadata": {
        "id": "iXewYLZnl_x_"
      }
    },
    {
      "cell_type": "code",
      "source": [
        "(data['country'].\n",
        " groupby(data['test']).\n",
        " value_counts(normalize=True).\n",
        " rename('trans_count_proportion').\n",
        " reset_index().\n",
        " pipe((sns.barplot,'data'),x='country',y='trans_count_proportion',hue='test'))"
      ],
      "metadata": {
        "colab": {
          "base_uri": "https://localhost:8080/",
          "height": 297
        },
        "id": "s0Jp2kvxrAUy",
        "outputId": "bf2c32ca-7a65-4eb9-8b73-2edc089405c5"
      },
      "execution_count": null,
      "outputs": [
        {
          "output_type": "execute_result",
          "data": {
            "text/plain": [
              "<matplotlib.axes._subplots.AxesSubplot at 0x7f58dc562cd0>"
            ]
          },
          "metadata": {},
          "execution_count": 41
        },
        {
          "output_type": "display_data",
          "data": {
            "text/plain": [
              "<Figure size 432x288 with 1 Axes>"
            ],
            "image/png": "[encoded data removed]"
          },
          "metadata": {
            "needs_background": "light"
          }
        }
      ]
    },
    {
      "cell_type": "markdown",
      "source": [
        "However if we analyze the demographic of sample, we can find the distributions in test group and control group are different. So we should perform the A/B test based on different country."
      ],
      "metadata": {
        "id": "PsdPriKksZVL"
      }
    },
    {
      "cell_type": "code",
      "source": [
        "\n",
        "pvalue = data.groupby('country')['money_spent'].agg([\n",
        "                                ('test_money_spent',lambda x:x[data['test']==1].mean()),\n",
        "                                ('control_money_spent',lambda x:x[data['test']==0].mean()),\n",
        "                                (\"p_value\", lambda x: stats.ttest_ind(x[data[\"test\"]==1], \n",
        "                                                                    x[data[\"test\"]==0], \n",
        "                                                                    equal_var=False\n",
        "                                                                    ).pvalue/2),\n",
        "                                ],axis=1)\n",
        "pvalue"
      ],
      "metadata": {
        "colab": {
          "base_uri": "https://localhost:8080/",
          "height": 363
        },
        "id": "4t5XpfzVrtfH",
        "outputId": "2da2d948-f1d6-4ed6-f089-d901e9493717"
      },
      "execution_count": null,
      "outputs": [
        {
          "output_type": "execute_result",
          "data": {
            "text/plain": [
              "         test_money_spent  control_money_spent       p_value\n",
              "country                                                     \n",
              "CA              49.252679            42.160484  2.264160e-43\n",
              "CH              59.976987            57.279627  6.377139e-02\n",
              "DE              48.854997            42.459846  3.231103e-39\n",
              "ES              44.527360            42.454276  2.391054e-08\n",
              "FR              44.600467            42.537595  7.389947e-12\n",
              "IT              44.722031            42.307267  6.287989e-12\n",
              "MX              42.885453            39.342841  2.128778e-13\n",
              "UK              49.116520            42.429595  9.524136e-65\n",
              "US              49.643303            42.230390  3.601599e-75"
            ],
            "text/html": [
              "\n",
              "  <div id=\"df-b43841ef-653f-4aad-a6ae-37331dfe851d\">\n",
              "    <div class=\"colab-df-container\">\n",
              "      <div>\n",
              "<style scoped>\n",
              "    .dataframe tbody tr th:only-of-type {\n",
              "        vertical-align: middle;\n",
              "    }\n",
              "\n",
              "    .dataframe tbody tr th {\n",
              "        vertical-align: top;\n",
              "    }\n",
              "\n",
              "    .dataframe thead th {\n",
              "        text-align: right;\n",
              "    }\n",
              "</style>\n",
              "<table border=\"1\" class=\"dataframe\">\n",
              "  <thead>\n",
              "    <tr style=\"text-align: right;\">\n",
              "      <th></th>\n",
              "      <th>test_money_spent</th>\n",
              "      <th>control_money_spent</th>\n",
              "      <th>p_value</th>\n",
              "    </tr>\n",
              "    <tr>\n",
              "      <th>country</th>\n",
              "      <th></th>\n",
              "      <th></th>\n",
              "      <th></th>\n",
              "    </tr>\n",
              "  </thead>\n",
              "  <tbody>\n",
              "    <tr>\n",
              "      <th>CA</th>\n",
              "      <td>49.252679</td>\n",
              "      <td>42.160484</td>\n",
              "      <td>2.264160e-43</td>\n",
              "    </tr>\n",
              "    <tr>\n",
              "      <th>CH</th>\n",
              "      <td>59.976987</td>\n",
              "      <td>57.279627</td>\n",
              "      <td>6.377139e-02</td>\n",
              "    </tr>\n",
              "    <tr>\n",
              "      <th>DE</th>\n",
              "      <td>48.854997</td>\n",
              "      <td>42.459846</td>\n",
              "      <td>3.231103e-39</td>\n",
              "    </tr>\n",
              "    <tr>\n",
              "      <th>ES</th>\n",
              "      <td>44.527360</td>\n",
              "      <td>42.454276</td>\n",
              "      <td>2.391054e-08</td>\n",
              "    </tr>\n",
              "    <tr>\n",
              "      <th>FR</th>\n",
              "      <td>44.600467</td>\n",
              "      <td>42.537595</td>\n",
              "      <td>7.389947e-12</td>\n",
              "    </tr>\n",
              "    <tr>\n",
              "      <th>IT</th>\n",
              "      <td>44.722031</td>\n",
              "      <td>42.307267</td>\n",
              "      <td>6.287989e-12</td>\n",
              "    </tr>\n",
              "    <tr>\n",
              "      <th>MX</th>\n",
              "      <td>42.885453</td>\n",
              "      <td>39.342841</td>\n",
              "      <td>2.128778e-13</td>\n",
              "    </tr>\n",
              "    <tr>\n",
              "      <th>UK</th>\n",
              "      <td>49.116520</td>\n",
              "      <td>42.429595</td>\n",
              "      <td>9.524136e-65</td>\n",
              "    </tr>\n",
              "    <tr>\n",
              "      <th>US</th>\n",
              "      <td>49.643303</td>\n",
              "      <td>42.230390</td>\n",
              "      <td>3.601599e-75</td>\n",
              "    </tr>\n",
              "  </tbody>\n",
              "</table>\n",
              "</div>\n",
              "      <button class=\"colab-df-convert\" onclick=\"convertToInteractive('df-b43841ef-653f-4aad-a6ae-37331dfe851d')\"\n",
              "              title=\"Convert this dataframe to an interactive table.\"\n",
              "              style=\"display:none;\">\n",
              "        \n",
              "  <svg xmlns=\"http://www.w3.org/2000/svg\" height=\"24px\"viewBox=\"0 0 24 24\"\n",
              "       width=\"24px\">\n",
              "    <path d=\"M0 0h24v24H0V0z\" fill=\"none\"/>\n",
              "    <path d=\"M18.56 5.44l.94 2.06.94-2.06 2.06-.94-2.06-.94-.94-2.06-.94 2.06-2.06.94zm-11 1L8.5 8.5l.94-2.06 2.06-.94-2.06-.94L8.5 2.5l-.94 2.06-2.06.94zm10 10l.94 2.06.94-2.06 2.06-.94-2.06-.94-.94-2.06-.94 2.06-2.06.94z\"/><path d=\"M17.41 7.96l-1.37-1.37c-.4-.4-.92-.59-1.43-.59-.52 0-1.04.2-1.43.59L10.3 9.45l-7.72 7.72c-.78.78-.78 2.05 0 2.83L4 21.41c.39.39.9.59 1.41.59.51 0 1.02-.2 1.41-.59l7.78-7.78 2.81-2.81c.8-.78.8-2.07 0-2.86zM5.41 20L4 18.59l7.72-7.72 1.47 1.35L5.41 20z\"/>\n",
              "  </svg>\n",
              "      </button>\n",
              "      \n",
              "  <style>\n",
              "    .colab-df-container {\n",
              "      display:flex;\n",
              "      flex-wrap:wrap;\n",
              "      gap: 12px;\n",
              "    }\n",
              "\n",
              "    .colab-df-convert {\n",
              "      background-color: #E8F0FE;\n",
              "      border: none;\n",
              "      border-radius: 50%;\n",
              "      cursor: pointer;\n",
              "      display: none;\n",
              "      fill: #1967D2;\n",
              "      height: 32px;\n",
              "      padding: 0 0 0 0;\n",
              "      width: 32px;\n",
              "    }\n",
              "\n",
              "    .colab-df-convert:hover {\n",
              "      background-color: #E2EBFA;\n",
              "      box-shadow: 0px 1px 2px rgba(60, 64, 67, 0.3), 0px 1px 3px 1px rgba(60, 64, 67, 0.15);\n",
              "      fill: #174EA6;\n",
              "    }\n",
              "\n",
              "    [theme=dark] .colab-df-convert {\n",
              "      background-color: #3B4455;\n",
              "      fill: #D2E3FC;\n",
              "    }\n",
              "\n",
              "    [theme=dark] .colab-df-convert:hover {\n",
              "      background-color: #434B5C;\n",
              "      box-shadow: 0px 1px 3px 1px rgba(0, 0, 0, 0.15);\n",
              "      filter: drop-shadow(0px 1px 2px rgba(0, 0, 0, 0.3));\n",
              "      fill: #FFFFFF;\n",
              "    }\n",
              "  </style>\n",
              "\n",
              "      <script>\n",
              "        const buttonEl =\n",
              "          document.querySelector('#df-b43841ef-653f-4aad-a6ae-37331dfe851d button.colab-df-convert');\n",
              "        buttonEl.style.display =\n",
              "          google.colab.kernel.accessAllowed ? 'block' : 'none';\n",
              "\n",
              "        async function convertToInteractive(key) {\n",
              "          const element = document.querySelector('#df-b43841ef-653f-4aad-a6ae-37331dfe851d');\n",
              "          const dataTable =\n",
              "            await google.colab.kernel.invokeFunction('convertToInteractive',\n",
              "                                                     [key], {});\n",
              "          if (!dataTable) return;\n",
              "\n",
              "          const docLinkHtml = 'Like what you see? Visit the ' +\n",
              "            '<a target=\"_blank\" href=https://colab.research.google.com/notebooks/data_table.ipynb>data table notebook</a>'\n",
              "            + ' to learn more about interactive tables.';\n",
              "          element.innerHTML = '';\n",
              "          dataTable['output_type'] = 'display_data';\n",
              "          await google.colab.output.renderOutput(dataTable, element);\n",
              "          const docLink = document.createElement('div');\n",
              "          docLink.innerHTML = docLinkHtml;\n",
              "          element.appendChild(docLink);\n",
              "        }\n",
              "      </script>\n",
              "    </div>\n",
              "  </div>\n",
              "  "
            ]
          },
          "metadata": {},
          "execution_count": 42
        }
      ]
    },
    {
      "cell_type": "markdown",
      "source": [
        "The p_values are all smaller than 5% except CH,which is about 6.4%. So we can believe that the referral program does work globally. And in general, the money spent in test group are greater than control group. Especially in country such as CA, US, UK, the referral program boost the money spent per transaction from 42.1 to 49.3 - about 17% growth! However in other region such as ES,FR,IT..., the growth is much samller than above countries."
      ],
      "metadata": {
        "id": "tC5nKJM5tJzX"
      }
    },
    {
      "cell_type": "markdown",
      "source": [
        "## Conclusion\n",
        "\n",
        "To see if the program succeed or not, we discuss two question:\n",
        "<br>(1) Is users from referral program spent more than normal users?\n",
        "<br>(2) Does referral program boost the sale?\n",
        "<br> To answer (1), I split the data after October 31st(when the referral program start) into \n",
        "test group: users from referral and control group: normal users and perfrom z-test for testing hypothesis that all users spent money equally since the sample size is large enough. The outcome p-value tells us that we have no reason to believe that the users from referral program spent more. \n",
        "Looking deeper to the demographic of samples, we found that there's slightly difference in sample in the test group and control group. I then perform z-test based on different country. However the outcome still cannot tells us the difference between the money spent from normal users and referral program users except UK, where the referral users spent only about 2% greater than normal users. \n",
        "<br> In short, whether the referral program make the users spent more is not clear and seems not.\n",
        "\n",
        "To answer (2), I split the data into\n",
        "test group: data after 10/31 and control group: data before 10/31 then perfrom A/B test to see if the sales test group were boosted. Not only does the graph but also the z-test result tell us that the sales were boosted. However if we look into the sample's demographic, we can see that the distribution varies between test and control group. I then perform t-test seperately, and see that still the sales in almost every country have boosted during referral program period, especially US,UK,CA and DE.\n",
        "\n",
        "## What we should do next?\n",
        "The referral programs have boosted the sales where users spent more on average during program period. And the effect is significant especially in region such as US,UK, CA and DE. We should hold more saling program like that in these region, or we should check if some of the part in the program can do better in other country, such as the copywriting. \n",
        "\n",
        "However there is a flaw in AB test in second part. For the AB test discussing whether the sales boost, I compare the sales before and after the referral program start and get better user money spending in average in the referral group with statistically significant. But we should be careful before reaching the conclution that the referral program boost the sales, since the samples in test and control group are collected in different period and the sales boosting may be caused by season effect or some environmental factor. Thus, we should compare the sales with historical data to see if the sales would naturally perform greater in winter. Or, we can perform the test simultaneously by letting some of the users know the referral program and some do not. Then split the data based on whether the users know the referral program or not."
      ],
      "metadata": {
        "id": "bPS9KfqyoTFy"
      }
    }
  ]
}